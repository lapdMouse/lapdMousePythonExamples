{
 "cells": [
  {
   "cell_type": "markdown",
   "metadata": {},
   "source": [
    "# Fraction of Total Deposition in Airways of Given Diameter\n",
    "\n",
    "\n",
    "This examples creates a histogram showing the fraction of airway wall aerosol deposition in airways of given diameter. It demonstrates how to link information between airway tree's structure `*_AirwayTreeTable.csv` and \n",
    "the airway tree segment's particle deposition `*_AirwaySegmentsDeposition*`.\n",
    "\n",
    "We utilize `pandas` for loading the csv files and `matplotlib` for visualization of data. "
   ]
  },
  {
   "cell_type": "code",
   "execution_count": 1,
   "metadata": {},
   "outputs": [],
   "source": [
    "import os, pandas, matplotlib, numpy\n",
    "import matplotlib.pyplot as plt"
   ]
  },
  {
   "cell_type": "markdown",
   "metadata": {},
   "source": [
    "First, we download example data from the `lapdMouse` data archive, which can then be loaded with `pandas`."
   ]
  },
  {
   "cell_type": "code",
   "execution_count": 2,
   "metadata": {},
   "outputs": [],
   "source": [
    "from lapdMouseUtils import DBUtil\n",
    "db=DBUtil()\n",
    "db.downloadFile('m01/m01_AirwayTreeTable.csv')\n",
    "db.downloadFile('m01/m01_AirwaySegmentsDeposition.csv')"
   ]
  },
  {
   "cell_type": "code",
   "execution_count": 3,
   "metadata": {},
   "outputs": [
    {
     "data": {
      "text/html": [
       "<div>\n",
       "<table border=\"1\" class=\"dataframe\">\n",
       "  <thead>\n",
       "    <tr style=\"text-align: right;\">\n",
       "      <th></th>\n",
       "      <th>parent</th>\n",
       "      <th>length</th>\n",
       "      <th>radius</th>\n",
       "      <th>name</th>\n",
       "      <th>centroidX</th>\n",
       "      <th>centroidY</th>\n",
       "      <th>centroidZ</th>\n",
       "      <th>directionX</th>\n",
       "      <th>directionY</th>\n",
       "      <th>directionZ</th>\n",
       "    </tr>\n",
       "    <tr>\n",
       "      <th>label</th>\n",
       "      <th></th>\n",
       "      <th></th>\n",
       "      <th></th>\n",
       "      <th></th>\n",
       "      <th></th>\n",
       "      <th></th>\n",
       "      <th></th>\n",
       "      <th></th>\n",
       "      <th></th>\n",
       "      <th></th>\n",
       "    </tr>\n",
       "  </thead>\n",
       "  <tbody>\n",
       "    <tr>\n",
       "      <th>1</th>\n",
       "      <td>0</td>\n",
       "      <td>3.85790</td>\n",
       "      <td>0.633658</td>\n",
       "      <td>Trachea</td>\n",
       "      <td>15.6271</td>\n",
       "      <td>12.4944</td>\n",
       "      <td>21.1153</td>\n",
       "      <td>-0.063817</td>\n",
       "      <td>0.108764</td>\n",
       "      <td>-0.992017</td>\n",
       "    </tr>\n",
       "    <tr>\n",
       "      <th>2</th>\n",
       "      <td>1</td>\n",
       "      <td>5.89578</td>\n",
       "      <td>0.621015</td>\n",
       "      <td>LMB</td>\n",
       "      <td>16.1652</td>\n",
       "      <td>13.0142</td>\n",
       "      <td>16.3458</td>\n",
       "      <td>0.224296</td>\n",
       "      <td>0.105177</td>\n",
       "      <td>-0.968829</td>\n",
       "    </tr>\n",
       "    <tr>\n",
       "      <th>3</th>\n",
       "      <td>1</td>\n",
       "      <td>3.42378</td>\n",
       "      <td>0.853296</td>\n",
       "      <td>RMB</td>\n",
       "      <td>14.9932</td>\n",
       "      <td>13.2012</td>\n",
       "      <td>17.6453</td>\n",
       "      <td>-0.298354</td>\n",
       "      <td>0.290323</td>\n",
       "      <td>-0.909229</td>\n",
       "    </tr>\n",
       "    <tr>\n",
       "      <th>4</th>\n",
       "      <td>2</td>\n",
       "      <td>1.47990</td>\n",
       "      <td>0.466713</td>\n",
       "      <td>NaN</td>\n",
       "      <td>17.4922</td>\n",
       "      <td>13.0142</td>\n",
       "      <td>13.3994</td>\n",
       "      <td>0.899723</td>\n",
       "      <td>-0.419015</td>\n",
       "      <td>-0.122171</td>\n",
       "    </tr>\n",
       "    <tr>\n",
       "      <th>5</th>\n",
       "      <td>2</td>\n",
       "      <td>1.67248</td>\n",
       "      <td>0.803769</td>\n",
       "      <td>LMB</td>\n",
       "      <td>17.0271</td>\n",
       "      <td>13.4337</td>\n",
       "      <td>12.6854</td>\n",
       "      <td>0.239942</td>\n",
       "      <td>0.130883</td>\n",
       "      <td>-0.961924</td>\n",
       "    </tr>\n",
       "  </tbody>\n",
       "</table>\n",
       "</div>"
      ],
      "text/plain": [
       "       parent   length    radius     name  centroidX  centroidY  centroidZ  \\\n",
       "label                                                                        \n",
       "1           0  3.85790  0.633658  Trachea    15.6271    12.4944    21.1153   \n",
       "2           1  5.89578  0.621015      LMB    16.1652    13.0142    16.3458   \n",
       "3           1  3.42378  0.853296      RMB    14.9932    13.2012    17.6453   \n",
       "4           2  1.47990  0.466713      NaN    17.4922    13.0142    13.3994   \n",
       "5           2  1.67248  0.803769      LMB    17.0271    13.4337    12.6854   \n",
       "\n",
       "       directionX  directionY  directionZ  \n",
       "label                                      \n",
       "1       -0.063817    0.108764   -0.992017  \n",
       "2        0.224296    0.105177   -0.968829  \n",
       "3       -0.298354    0.290323   -0.909229  \n",
       "4        0.899723   -0.419015   -0.122171  \n",
       "5        0.239942    0.130883   -0.961924  "
      ]
     },
     "execution_count": 3,
     "metadata": {},
     "output_type": "execute_result"
    }
   ],
   "source": [
    "df_att = pandas.read_csv('m01/m01_AirwayTreeTable.csv', index_col='label')\n",
    "df_att.head()"
   ]
  },
  {
   "cell_type": "code",
   "execution_count": 4,
   "metadata": {},
   "outputs": [
    {
     "data": {
      "text/html": [
       "<div>\n",
       "<table border=\"1\" class=\"dataframe\">\n",
       "  <thead>\n",
       "    <tr style=\"text-align: right;\">\n",
       "      <th></th>\n",
       "      <th>area</th>\n",
       "      <th>mean</th>\n",
       "      <th>sigma</th>\n",
       "      <th>median</th>\n",
       "      <th>min</th>\n",
       "      <th>max</th>\n",
       "      <th>count</th>\n",
       "      <th>centroidX</th>\n",
       "      <th>centroidY</th>\n",
       "      <th>centroidZ</th>\n",
       "      <th>bboxXStart</th>\n",
       "      <th>bboxXEnd</th>\n",
       "      <th>bboxYStart</th>\n",
       "      <th>bboxYEnd</th>\n",
       "      <th>bboxZStart</th>\n",
       "      <th>bboxZEnd</th>\n",
       "    </tr>\n",
       "    <tr>\n",
       "      <th>label</th>\n",
       "      <th></th>\n",
       "      <th></th>\n",
       "      <th></th>\n",
       "      <th></th>\n",
       "      <th></th>\n",
       "      <th></th>\n",
       "      <th></th>\n",
       "      <th></th>\n",
       "      <th></th>\n",
       "      <th></th>\n",
       "      <th></th>\n",
       "      <th></th>\n",
       "      <th></th>\n",
       "      <th></th>\n",
       "      <th></th>\n",
       "      <th></th>\n",
       "    </tr>\n",
       "  </thead>\n",
       "  <tbody>\n",
       "    <tr>\n",
       "      <th>1</th>\n",
       "      <td>17.22960</td>\n",
       "      <td>31.4931</td>\n",
       "      <td>194.521</td>\n",
       "      <td>11.2213</td>\n",
       "      <td>-0.000478</td>\n",
       "      <td>6530.83</td>\n",
       "      <td>4423</td>\n",
       "      <td>15.8234</td>\n",
       "      <td>12.4146</td>\n",
       "      <td>21.0647</td>\n",
       "      <td>14.5986</td>\n",
       "      <td>16.8049</td>\n",
       "      <td>11.2997</td>\n",
       "      <td>13.6001</td>\n",
       "      <td>19.1502</td>\n",
       "      <td>23.0699</td>\n",
       "    </tr>\n",
       "    <tr>\n",
       "      <th>2</th>\n",
       "      <td>24.96780</td>\n",
       "      <td>58.1681</td>\n",
       "      <td>313.559</td>\n",
       "      <td>16.2758</td>\n",
       "      <td>-0.006646</td>\n",
       "      <td>18118.80</td>\n",
       "      <td>6115</td>\n",
       "      <td>16.3150</td>\n",
       "      <td>13.1261</td>\n",
       "      <td>15.8510</td>\n",
       "      <td>15.4892</td>\n",
       "      <td>17.8496</td>\n",
       "      <td>11.9995</td>\n",
       "      <td>14.2744</td>\n",
       "      <td>13.2214</td>\n",
       "      <td>19.3063</td>\n",
       "    </tr>\n",
       "    <tr>\n",
       "      <th>3</th>\n",
       "      <td>24.40730</td>\n",
       "      <td>113.5010</td>\n",
       "      <td>1008.220</td>\n",
       "      <td>16.3208</td>\n",
       "      <td>-0.785225</td>\n",
       "      <td>56750.20</td>\n",
       "      <td>6442</td>\n",
       "      <td>14.7392</td>\n",
       "      <td>13.3140</td>\n",
       "      <td>17.4631</td>\n",
       "      <td>13.3377</td>\n",
       "      <td>16.2626</td>\n",
       "      <td>11.9451</td>\n",
       "      <td>14.7662</td>\n",
       "      <td>15.3042</td>\n",
       "      <td>23.0444</td>\n",
       "    </tr>\n",
       "    <tr>\n",
       "      <th>4</th>\n",
       "      <td>2.52382</td>\n",
       "      <td>131.5260</td>\n",
       "      <td>448.014</td>\n",
       "      <td>63.8535</td>\n",
       "      <td>0.002663</td>\n",
       "      <td>9874.51</td>\n",
       "      <td>712</td>\n",
       "      <td>17.8451</td>\n",
       "      <td>12.6914</td>\n",
       "      <td>13.4499</td>\n",
       "      <td>17.2078</td>\n",
       "      <td>18.5382</td>\n",
       "      <td>12.2484</td>\n",
       "      <td>13.2597</td>\n",
       "      <td>12.8324</td>\n",
       "      <td>14.1438</td>\n",
       "    </tr>\n",
       "    <tr>\n",
       "      <th>5</th>\n",
       "      <td>10.61550</td>\n",
       "      <td>107.4380</td>\n",
       "      <td>333.021</td>\n",
       "      <td>57.1003</td>\n",
       "      <td>0.005451</td>\n",
       "      <td>15349.60</td>\n",
       "      <td>2892</td>\n",
       "      <td>17.0132</td>\n",
       "      <td>13.4307</td>\n",
       "      <td>12.4336</td>\n",
       "      <td>15.9737</td>\n",
       "      <td>18.1046</td>\n",
       "      <td>12.4184</td>\n",
       "      <td>14.3298</td>\n",
       "      <td>11.2289</td>\n",
       "      <td>13.4835</td>\n",
       "    </tr>\n",
       "  </tbody>\n",
       "</table>\n",
       "</div>"
      ],
      "text/plain": [
       "           area      mean     sigma   median       min       max  count  \\\n",
       "label                                                                     \n",
       "1      17.22960   31.4931   194.521  11.2213 -0.000478   6530.83   4423   \n",
       "2      24.96780   58.1681   313.559  16.2758 -0.006646  18118.80   6115   \n",
       "3      24.40730  113.5010  1008.220  16.3208 -0.785225  56750.20   6442   \n",
       "4       2.52382  131.5260   448.014  63.8535  0.002663   9874.51    712   \n",
       "5      10.61550  107.4380   333.021  57.1003  0.005451  15349.60   2892   \n",
       "\n",
       "       centroidX  centroidY  centroidZ  bboxXStart  bboxXEnd  bboxYStart  \\\n",
       "label                                                                      \n",
       "1        15.8234    12.4146    21.0647     14.5986   16.8049     11.2997   \n",
       "2        16.3150    13.1261    15.8510     15.4892   17.8496     11.9995   \n",
       "3        14.7392    13.3140    17.4631     13.3377   16.2626     11.9451   \n",
       "4        17.8451    12.6914    13.4499     17.2078   18.5382     12.2484   \n",
       "5        17.0132    13.4307    12.4336     15.9737   18.1046     12.4184   \n",
       "\n",
       "       bboxYEnd  bboxZStart  bboxZEnd  \n",
       "label                                  \n",
       "1       13.6001     19.1502   23.0699  \n",
       "2       14.2744     13.2214   19.3063  \n",
       "3       14.7662     15.3042   23.0444  \n",
       "4       13.2597     12.8324   14.1438  \n",
       "5       14.3298     11.2289   13.4835  "
      ]
     },
     "execution_count": 4,
     "metadata": {},
     "output_type": "execute_result"
    }
   ],
   "source": [
    "df_asd = pandas.read_csv('m01/m01_AirwaySegmentsDeposition.csv', index_col='label')\n",
    "df_asd.head()"
   ]
  },
  {
   "cell_type": "markdown",
   "metadata": {},
   "source": [
    "For each airway segment in  `*_AirwaySegmentsDeposition*`, we calculate the total deposition in the segment `total=area*mean` and look up it's `radius` from `*_AirwayTreeTable.csv`. The airway segments in `*_AirwaySegmentsDeposition*` and `*_AirwayTreeTable.csv` share a common label. But please note that some airway segments present in `*_AirwayTreeTable.csv` may not have any assigned surface area and therefore no entry in table`*_AirwaySegmentsDeposition*`."
   ]
  },
  {
   "cell_type": "code",
   "execution_count": 5,
   "metadata": {},
   "outputs": [
    {
     "data": {
      "text/html": [
       "<div>\n",
       "<table border=\"1\" class=\"dataframe\">\n",
       "  <thead>\n",
       "    <tr style=\"text-align: right;\">\n",
       "      <th></th>\n",
       "      <th>area</th>\n",
       "      <th>mean</th>\n",
       "      <th>total</th>\n",
       "      <th>radius</th>\n",
       "    </tr>\n",
       "    <tr>\n",
       "      <th>label</th>\n",
       "      <th></th>\n",
       "      <th></th>\n",
       "      <th></th>\n",
       "      <th></th>\n",
       "    </tr>\n",
       "  </thead>\n",
       "  <tbody>\n",
       "    <tr>\n",
       "      <th>1</th>\n",
       "      <td>17.22960</td>\n",
       "      <td>31.4931</td>\n",
       "      <td>542.613516</td>\n",
       "      <td>0.633658</td>\n",
       "    </tr>\n",
       "    <tr>\n",
       "      <th>2</th>\n",
       "      <td>24.96780</td>\n",
       "      <td>58.1681</td>\n",
       "      <td>1452.329487</td>\n",
       "      <td>0.621015</td>\n",
       "    </tr>\n",
       "    <tr>\n",
       "      <th>3</th>\n",
       "      <td>24.40730</td>\n",
       "      <td>113.5010</td>\n",
       "      <td>2770.252957</td>\n",
       "      <td>0.853296</td>\n",
       "    </tr>\n",
       "    <tr>\n",
       "      <th>4</th>\n",
       "      <td>2.52382</td>\n",
       "      <td>131.5260</td>\n",
       "      <td>331.947949</td>\n",
       "      <td>0.466713</td>\n",
       "    </tr>\n",
       "    <tr>\n",
       "      <th>5</th>\n",
       "      <td>10.61550</td>\n",
       "      <td>107.4380</td>\n",
       "      <td>1140.508089</td>\n",
       "      <td>0.803769</td>\n",
       "    </tr>\n",
       "  </tbody>\n",
       "</table>\n",
       "</div>"
      ],
      "text/plain": [
       "           area      mean        total    radius\n",
       "label                                           \n",
       "1      17.22960   31.4931   542.613516  0.633658\n",
       "2      24.96780   58.1681  1452.329487  0.621015\n",
       "3      24.40730  113.5010  2770.252957  0.853296\n",
       "4       2.52382  131.5260   331.947949  0.466713\n",
       "5      10.61550  107.4380  1140.508089  0.803769"
      ]
     },
     "execution_count": 5,
     "metadata": {},
     "output_type": "execute_result"
    }
   ],
   "source": [
    "df = df_asd.loc[:,['area','mean']]\n",
    "df['total'] = df['area']*df['mean']\n",
    "df['radius'] = df_att.loc[df.index,'radius']\n",
    "df.head()"
   ]
  },
  {
   "cell_type": "markdown",
   "metadata": {},
   "source": [
    "We create a set of radius bins for our histogram and calculate the cummulative `deposition` and `surface_area` of all airways in the given bins."
   ]
  },
  {
   "cell_type": "code",
   "execution_count": 6,
   "metadata": {},
   "outputs": [],
   "source": [
    "bin_width = 0.025\n",
    "radius_bins = [x*bin_width for x in range(40)]\n",
    "n = len(radius_bins)\n",
    "radius_bin = numpy.digitize(df['radius'].values, radius_bins)-1\n",
    "deposition = numpy.empty(n)\n",
    "surface_area = numpy.empty(n)\n",
    "for i in range(n):\n",
    "    deposition[i] = sum(df.loc[radius_bin==i,'total'])\n",
    "    surface_area[i]= sum(df.loc[radius_bin==i,'area'])"
   ]
  },
  {
   "cell_type": "markdown",
   "metadata": {},
   "source": [
    "Finally, we plot the fraction of total deposition in airways of given radius."
   ]
  },
  {
   "cell_type": "code",
   "execution_count": 7,
   "metadata": {},
   "outputs": [
    {
     "data": {
      "image/png": "[encoded data removed]",
      "text/plain": [
       "<matplotlib.figure.Figure at 0x7f95a918aba8>"
      ]
     },
     "metadata": {},
     "output_type": "display_data"
    }
   ],
   "source": [
    "plt.bar(radius_bins,deposition/sum(deposition),bin_width,align='edge')\n",
    "plt.xlabel('Airway radius')\n",
    "plt.ylabel('Percent of aerosol deposition');"
   ]
  },
  {
   "cell_type": "markdown",
   "metadata": {},
   "source": [
    "For comparison, we also plot the fraction of airway surface area in airways of given radius"
   ]
  },
  {
   "cell_type": "code",
   "execution_count": 8,
   "metadata": {},
   "outputs": [
    {
     "data": {
      "image/png": "[encoded data removed]",
      "text/plain": [
       "<matplotlib.figure.Figure at 0x7f95a918afd0>"
      ]
     },
     "metadata": {},
     "output_type": "display_data"
    }
   ],
   "source": [
    "plt.bar(radius_bins,surface_area/sum(surface_area),bin_width,align='edge')\n",
    "plt.xlabel('Airway radius')\n",
    "plt.ylabel('Percent of airway surface area');"
   ]
  }
 ],
 "metadata": {
  "kernelspec": {
   "display_name": "Python 3",
   "language": "python",
   "name": "python3"
  },
  "language_info": {
   "codemirror_mode": {
    "name": "ipython",
    "version": 3
   },
   "file_extension": ".py",
   "mimetype": "text/x-python",
   "name": "python",
   "nbconvert_exporter": "python",
   "pygments_lexer": "ipython3",
   "version": "3.5.2"
  }
 },
 "nbformat": 4,
 "nbformat_minor": 2
}

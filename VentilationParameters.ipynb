{
 "cells": [
  {
   "cell_type": "markdown",
   "metadata": {},
   "source": [
    "# Ventilation Parameters"
   ]
  },
  {
   "cell_type": "markdown",
   "metadata": {},
   "source": [
    "The following example demonstrates how to work with Ventilation measurements represented in `*_Ventilation*.csv`.\n",
    "\n",
    "We utilize `pandas` for representation of data tables and `matplotlib` for visualization of data."
   ]
  },
  {
   "cell_type": "code",
   "execution_count": 1,
   "metadata": {},
   "outputs": [],
   "source": [
    "import os, pandas, matplotlib, numpy\n",
    "import matplotlib.pyplot as plt"
   ]
  },
  {
   "cell_type": "markdown",
   "metadata": {},
   "source": [
    "First, we download an example file from the `lapdMouse` data archive using the `lapdMouseUtils` module which is part of the [lapdMousePythonExamples](https://github.com/lapdMouse/lapdMousePythonExamples). We can then load the `.csv` file with `pandas`"
   ]
  },
  {
   "cell_type": "code",
   "execution_count": 2,
   "metadata": {},
   "outputs": [
    {
     "data": {
      "text/html": [
       "<div>\n",
       "<table border=\"1\" class=\"dataframe\">\n",
       "  <thead>\n",
       "    <tr style=\"text-align: right;\">\n",
       "      <th></th>\n",
       "      <th>time</th>\n",
       "      <th>Flow</th>\n",
       "      <th>RR</th>\n",
       "      <th>Inspiration</th>\n",
       "    </tr>\n",
       "  </thead>\n",
       "  <tbody>\n",
       "    <tr>\n",
       "      <th>0</th>\n",
       "      <td>4.62</td>\n",
       "      <td>3.739</td>\n",
       "      <td>180</td>\n",
       "      <td>1</td>\n",
       "    </tr>\n",
       "    <tr>\n",
       "      <th>1</th>\n",
       "      <td>4.63</td>\n",
       "      <td>35.119</td>\n",
       "      <td>180</td>\n",
       "      <td>1</td>\n",
       "    </tr>\n",
       "    <tr>\n",
       "      <th>2</th>\n",
       "      <td>4.64</td>\n",
       "      <td>58.149</td>\n",
       "      <td>180</td>\n",
       "      <td>1</td>\n",
       "    </tr>\n",
       "    <tr>\n",
       "      <th>3</th>\n",
       "      <td>4.65</td>\n",
       "      <td>68.478</td>\n",
       "      <td>180</td>\n",
       "      <td>1</td>\n",
       "    </tr>\n",
       "    <tr>\n",
       "      <th>4</th>\n",
       "      <td>4.66</td>\n",
       "      <td>72.454</td>\n",
       "      <td>180</td>\n",
       "      <td>1</td>\n",
       "    </tr>\n",
       "    <tr>\n",
       "      <th>5</th>\n",
       "      <td>4.67</td>\n",
       "      <td>76.099</td>\n",
       "      <td>180</td>\n",
       "      <td>1</td>\n",
       "    </tr>\n",
       "    <tr>\n",
       "      <th>6</th>\n",
       "      <td>4.68</td>\n",
       "      <td>80.865</td>\n",
       "      <td>180</td>\n",
       "      <td>1</td>\n",
       "    </tr>\n",
       "    <tr>\n",
       "      <th>7</th>\n",
       "      <td>4.69</td>\n",
       "      <td>84.667</td>\n",
       "      <td>180</td>\n",
       "      <td>1</td>\n",
       "    </tr>\n",
       "    <tr>\n",
       "      <th>8</th>\n",
       "      <td>4.70</td>\n",
       "      <td>88.241</td>\n",
       "      <td>180</td>\n",
       "      <td>1</td>\n",
       "    </tr>\n",
       "    <tr>\n",
       "      <th>9</th>\n",
       "      <td>4.71</td>\n",
       "      <td>91.639</td>\n",
       "      <td>180</td>\n",
       "      <td>1</td>\n",
       "    </tr>\n",
       "  </tbody>\n",
       "</table>\n",
       "</div>"
      ],
      "text/plain": [
       "   time    Flow   RR  Inspiration\n",
       "0  4.62   3.739  180            1\n",
       "1  4.63  35.119  180            1\n",
       "2  4.64  58.149  180            1\n",
       "3  4.65  68.478  180            1\n",
       "4  4.66  72.454  180            1\n",
       "5  4.67  76.099  180            1\n",
       "6  4.68  80.865  180            1\n",
       "7  4.69  84.667  180            1\n",
       "8  4.70  88.241  180            1\n",
       "9  4.71  91.639  180            1"
      ]
     },
     "execution_count": 2,
     "metadata": {},
     "output_type": "execute_result"
    }
   ],
   "source": [
    "from lapdMouseUtils import DBUtil\n",
    "DBUtil().downloadFile('m01/m01_Ventilation_Pre.csv')\n",
    "df = pandas.read_csv('m01/m01_Ventilation_Pre.csv')\n",
    "df.head(10)"
   ]
  },
  {
   "cell_type": "markdown",
   "metadata": {},
   "source": [
    "  * The files have 4 columns: **time**, **Flow**, **respiratory rate (RR)**, and **inspiration**.\n",
    "  * The flow sensor only measures inspiration (voltage>0; inspiration=1). Expiration is shown as inspiration=0, but the reported flow values during these ranges are meaningless.\n",
    "  * Respiratory rate reported by the data acquisition system is given in the RR column."
   ]
  },
  {
   "cell_type": "code",
   "execution_count": 3,
   "metadata": {},
   "outputs": [
    {
     "data": {
      "image/png": "[encoded data removed]",
      "text/plain": [
       "<matplotlib.figure.Figure at 0x7f4676c73748>"
      ]
     },
     "metadata": {},
     "output_type": "display_data"
    }
   ],
   "source": [
    "plt.figure()\n",
    "plt.plot(df['time'], df['Flow'])\n",
    "plt.plot(df['time'], df['Inspiration']*10)\n",
    "plt.xlabel('time (sec)')\n",
    "plt.ylabel('Ventilation (mL/sec)')\n",
    "plt.title('Inspiratory Flow before Aerosol');"
   ]
  },
  {
   "cell_type": "markdown",
   "metadata": {},
   "source": [
    "## Estimate Respiratory Rate and I:E Ratio\n",
    "\n",
    "Respiratory rate (RR) is reported by the data acquisition system as a rolling average over several breaths. You can also determine the average RR from the breaths."
   ]
  },
  {
   "cell_type": "code",
   "execution_count": 4,
   "metadata": {},
   "outputs": [
    {
     "name": "stdout",
     "output_type": "stream",
     "text": [
      "nBreaths = 13\n"
     ]
    }
   ],
   "source": [
    "transitions = numpy.asarray(numpy.logical_xor(df['Inspiration'][1:-1],df['Inspiration'][2:]))\n",
    "transitions = numpy.insert(transitions, 0, True, axis=0) # First transition occurs at first point\n",
    "iTrans = numpy.asmatrix(transitions.nonzero()) # Marks transitions between I and E\n",
    "jTrans = iTrans.reshape(-1,2) # Split into I locations in 1st column and E in 2nd\n",
    "nBreaths = jTrans.shape[0]\n",
    "print(\"nBreaths = %d\" % (nBreaths))"
   ]
  },
  {
   "cell_type": "code",
   "execution_count": 5,
   "metadata": {},
   "outputs": [
    {
     "name": "stdout",
     "output_type": "stream",
     "text": [
      "RR = 166 bpm\n"
     ]
    }
   ],
   "source": [
    "RR = nBreaths * 60 / (df['time'].iloc[-1] - df['time'].iloc[0])\n",
    "print(\"RR = %d bpm\" % (round(RR)))"
   ]
  },
  {
   "cell_type": "code",
   "execution_count": 6,
   "metadata": {},
   "outputs": [
    {
     "name": "stdout",
     "output_type": "stream",
     "text": [
      "I:E = 0.91\n"
     ]
    }
   ],
   "source": [
    "IE = sum(df['Inspiration']) / sum(numpy.logical_not(df['Inspiration']))\n",
    "print(\"I:E = %.2f\" % (IE))"
   ]
  },
  {
   "cell_type": "markdown",
   "metadata": {},
   "source": [
    "## Estimate average tidal volume\n",
    "\n",
    "This could be fine-tuned by using trapezoidal rule for the integration of flow vs time, we will short-circuit this by summing the flows during the inspiratory phases."
   ]
  },
  {
   "cell_type": "code",
   "execution_count": 7,
   "metadata": {},
   "outputs": [
    {
     "name": "stdout",
     "output_type": "stream",
     "text": [
      "VT = 0.19 mL\n"
     ]
    }
   ],
   "source": [
    "VTavg = 0\n",
    "dt = df['time'][1] - df['time'][0]\n",
    "for oneBreath in jTrans:\n",
    "    iStart = oneBreath[0,0]\n",
    "    iEnd = oneBreath[0,1]\n",
    "    VT = sum(df['Flow'][iStart:iEnd]) * dt / 60\n",
    "    VTavg = VTavg + VT\n",
    "\n",
    "VTavg = VTavg / nBreaths\n",
    "print(\"VT = %.2f mL\" % (VTavg))"
   ]
  }
 ],
 "metadata": {
  "kernelspec": {
   "display_name": "Python 3",
   "language": "python",
   "name": "python3"
  },
  "language_info": {
   "codemirror_mode": {
    "name": "ipython",
    "version": 3
   },
   "file_extension": ".py",
   "mimetype": "text/x-python",
   "name": "python",
   "nbconvert_exporter": "python",
   "pygments_lexer": "ipython3",
   "version": "3.4.3"
  }
 },
 "nbformat": 4,
 "nbformat_minor": 2
}

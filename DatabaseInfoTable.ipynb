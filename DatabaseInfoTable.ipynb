{
 "cells": [
  {
   "cell_type": "markdown",
   "metadata": {},
   "source": [
    "# Database Info\n",
    "\n",
    "The following example demonstrates how to extract information from the datasets `*_Info.md`, and summarize information from several datsets in the database.\n",
    "\n",
    "We utilize `pandas` for representation of data tables and `matplotlib` for visualization of data."
   ]
  },
  {
   "cell_type": "code",
   "execution_count": 1,
   "metadata": {},
   "outputs": [],
   "source": [
    "import os, glob, pandas, matplotlib, numpy\n",
    "import matplotlib.pyplot as plt"
   ]
  },
  {
   "cell_type": "markdown",
   "metadata": {},
   "source": [
    "First, we download some example data from the `lapdMouse` data archive using the `lapdMouseUtils` module which is part of the [lapdMousePythonExamples](https://github.com/lapdMouse/lapdMousePythonExamples)."
   ]
  },
  {
   "cell_type": "code",
   "execution_count": 2,
   "metadata": {},
   "outputs": [],
   "source": [
    "from lapdMouseUtils import DBUtil\n",
    "db=DBUtil()\n",
    "for i in range(1,11):\n",
    "  db.downloadFile('m%02d/m%02d_Info.md'%(i,i))"
   ]
  },
  {
   "cell_type": "markdown",
   "metadata": {},
   "source": [
    "## Parsing data from Info.md\n",
    "General information about the dataset, including mouse physiological parameters, aerosol dosing, notes about data acquisition and processing, and other findings are stored in Markdown files following a specific template that allows parsing for specific entries. We define a function `getInfo` that parses such an `*_Info.md` files and returns it as a dictionary."
   ]
  },
  {
   "cell_type": "code",
   "execution_count": 3,
   "metadata": {},
   "outputs": [],
   "source": [
    "def getInfo(infoFilename):\n",
    "  info = {}\n",
    "  StringValues = ['Gender', 'Strain', 'Vendor']#, 'Physical abnormalities']\n",
    "  FloatValues = ['Particle size', 'Exposure time', 'Relative exposure estimate',\\\n",
    "    'Total centerline length', 'Number of branches' ' Number of terminal branches',\\\n",
    "    'Maximum generation number', 'Number of outlet areas', 'Weight (g)', 'Lung volume']\n",
    "  keys = StringValues\n",
    "  keys.extend(FloatValues)\n",
    "  for line in open(infoFilename,'r').read().split('\\n'):\n",
    "    for key in keys:\n",
    "      if line.find(key+': ')!=-1:\n",
    "        data = line[line.find(key+': ')+len(key)+2:]\n",
    "        if key in FloatValues:\n",
    "          try:\n",
    "            data = float(data.split(' ')[0])\n",
    "          except ValueError:\n",
    "            data = float('nan')\n",
    "        info[key] = data\n",
    "  return info"
   ]
  },
  {
   "cell_type": "markdown",
   "metadata": {},
   "source": [
    "This allows parsing an `Info.md` files, and return a set general information of as a python dictionary:"
   ]
  },
  {
   "cell_type": "code",
   "execution_count": 4,
   "metadata": {},
   "outputs": [
    {
     "name": "stdout",
     "output_type": "stream",
     "text": [
      "Relative exposure estimate: 109000000.0\n",
      "Particle size: 1.0\n",
      "Number of outlet areas: 2004.0\n",
      "Vendor: Charles Rivers\n",
      "Gender: Male\n",
      "Exposure time: 10.0\n",
      "Strain: B6C3F1\n",
      "Weight (g): nan\n",
      "Maximum generation number: 25.0\n",
      "Lung volume: 1154.35\n",
      "Total centerline length: 658.742\n"
     ]
    }
   ],
   "source": [
    "info = getInfo('./m01/m01_Info.md')\n",
    "for key, value in info.items():\n",
    "  print(key+': '+str(value))"
   ]
  },
  {
   "cell_type": "markdown",
   "metadata": {},
   "source": [
    "## Summarzing all Info.md files from database\n",
    "below we first search for all `*_Info.md` files in the database, parse them using `getInfo` defined above, and summarize results in a table (pandas dataframe)."
   ]
  },
  {
   "cell_type": "code",
   "execution_count": 5,
   "metadata": {},
   "outputs": [
    {
     "data": {
      "text/html": [
       "<div>\n",
       "<style scoped>\n",
       "    .dataframe tbody tr th:only-of-type {\n",
       "        vertical-align: middle;\n",
       "    }\n",
       "\n",
       "    .dataframe tbody tr th {\n",
       "        vertical-align: top;\n",
       "    }\n",
       "\n",
       "    .dataframe thead th {\n",
       "        text-align: right;\n",
       "    }\n",
       "</style>\n",
       "<table border=\"1\" class=\"dataframe\">\n",
       "  <thead>\n",
       "    <tr style=\"text-align: right;\">\n",
       "      <th></th>\n",
       "      <th>Relative exposure estimate</th>\n",
       "      <th>Particle size</th>\n",
       "      <th>Number of outlet areas</th>\n",
       "      <th>Vendor</th>\n",
       "      <th>Gender</th>\n",
       "      <th>Exposure time</th>\n",
       "      <th>Strain</th>\n",
       "      <th>Weight (g)</th>\n",
       "      <th>Maximum generation number</th>\n",
       "      <th>Lung volume</th>\n",
       "      <th>Total centerline length</th>\n",
       "    </tr>\n",
       "  </thead>\n",
       "  <tbody>\n",
       "    <tr>\n",
       "      <th>m01</th>\n",
       "      <td>109000000.0</td>\n",
       "      <td>1.0</td>\n",
       "      <td>2004.0</td>\n",
       "      <td>Charles Rivers</td>\n",
       "      <td>Male</td>\n",
       "      <td>10.0</td>\n",
       "      <td>B6C3F1</td>\n",
       "      <td>NaN</td>\n",
       "      <td>25.0</td>\n",
       "      <td>1154.35</td>\n",
       "      <td>658.742</td>\n",
       "    </tr>\n",
       "    <tr>\n",
       "      <th>m02</th>\n",
       "      <td>74300000.0</td>\n",
       "      <td>1.0</td>\n",
       "      <td>1817.0</td>\n",
       "      <td>Charles Rivers</td>\n",
       "      <td>Female</td>\n",
       "      <td>10.0</td>\n",
       "      <td>B6C3F1</td>\n",
       "      <td>19.5</td>\n",
       "      <td>24.0</td>\n",
       "      <td>1067.14</td>\n",
       "      <td>586.798</td>\n",
       "    </tr>\n",
       "    <tr>\n",
       "      <th>m03</th>\n",
       "      <td>NaN</td>\n",
       "      <td>1.0</td>\n",
       "      <td>1725.0</td>\n",
       "      <td>Jackson Labs</td>\n",
       "      <td>Male</td>\n",
       "      <td>10.0</td>\n",
       "      <td>BALB/c</td>\n",
       "      <td>23.8</td>\n",
       "      <td>25.0</td>\n",
       "      <td>1142.07</td>\n",
       "      <td>556.905</td>\n",
       "    </tr>\n",
       "    <tr>\n",
       "      <th>m04</th>\n",
       "      <td>265000000.0</td>\n",
       "      <td>1.0</td>\n",
       "      <td>1167.0</td>\n",
       "      <td>Charles Rivers</td>\n",
       "      <td>Male</td>\n",
       "      <td>10.0</td>\n",
       "      <td>CD-1</td>\n",
       "      <td>24.4</td>\n",
       "      <td>24.0</td>\n",
       "      <td>1224.19</td>\n",
       "      <td>453.592</td>\n",
       "    </tr>\n",
       "    <tr>\n",
       "      <th>m05</th>\n",
       "      <td>NaN</td>\n",
       "      <td>1.0</td>\n",
       "      <td>1709.0</td>\n",
       "      <td>Charles Rivers</td>\n",
       "      <td>Male</td>\n",
       "      <td>10.0</td>\n",
       "      <td>CD-1</td>\n",
       "      <td>NaN</td>\n",
       "      <td>23.0</td>\n",
       "      <td>1211.21</td>\n",
       "      <td>569.515</td>\n",
       "    </tr>\n",
       "    <tr>\n",
       "      <th>m06</th>\n",
       "      <td>124000000.0</td>\n",
       "      <td>1.0</td>\n",
       "      <td>1912.0</td>\n",
       "      <td>Charles Rivers</td>\n",
       "      <td>Female</td>\n",
       "      <td>10.0</td>\n",
       "      <td>B6C3F1</td>\n",
       "      <td>21.0</td>\n",
       "      <td>25.0</td>\n",
       "      <td>1103.35</td>\n",
       "      <td>605.276</td>\n",
       "    </tr>\n",
       "    <tr>\n",
       "      <th>m07</th>\n",
       "      <td>NaN</td>\n",
       "      <td>1.0</td>\n",
       "      <td>1680.0</td>\n",
       "      <td>Jackson Labs</td>\n",
       "      <td>Male</td>\n",
       "      <td>10.0</td>\n",
       "      <td>C57BL/6</td>\n",
       "      <td>24.1</td>\n",
       "      <td>27.0</td>\n",
       "      <td>1116.76</td>\n",
       "      <td>571.870</td>\n",
       "    </tr>\n",
       "    <tr>\n",
       "      <th>m08</th>\n",
       "      <td>NaN</td>\n",
       "      <td>1.0</td>\n",
       "      <td>1995.0</td>\n",
       "      <td>Jackson Labs</td>\n",
       "      <td>Female</td>\n",
       "      <td>10.0</td>\n",
       "      <td>C57BL/6</td>\n",
       "      <td>23.0</td>\n",
       "      <td>25.0</td>\n",
       "      <td>1055.43</td>\n",
       "      <td>597.903</td>\n",
       "    </tr>\n",
       "    <tr>\n",
       "      <th>m09</th>\n",
       "      <td>137000000.0</td>\n",
       "      <td>1.0</td>\n",
       "      <td>1810.0</td>\n",
       "      <td>Jackson Labs</td>\n",
       "      <td>Female</td>\n",
       "      <td>10.0</td>\n",
       "      <td>BALB/c</td>\n",
       "      <td>23.7</td>\n",
       "      <td>26.0</td>\n",
       "      <td>1128.40</td>\n",
       "      <td>529.485</td>\n",
       "    </tr>\n",
       "    <tr>\n",
       "      <th>m10</th>\n",
       "      <td>112000000.0</td>\n",
       "      <td>1.0</td>\n",
       "      <td>1797.0</td>\n",
       "      <td>Jackson Labs</td>\n",
       "      <td>Female</td>\n",
       "      <td>10.0</td>\n",
       "      <td>BALB/c</td>\n",
       "      <td>NaN</td>\n",
       "      <td>25.0</td>\n",
       "      <td>1144.66</td>\n",
       "      <td>524.425</td>\n",
       "    </tr>\n",
       "  </tbody>\n",
       "</table>\n",
       "</div>"
      ],
      "text/plain": [
       "     Relative exposure estimate  Particle size  Number of outlet areas  \\\n",
       "m01                 109000000.0            1.0                  2004.0   \n",
       "m02                  74300000.0            1.0                  1817.0   \n",
       "m03                         NaN            1.0                  1725.0   \n",
       "m04                 265000000.0            1.0                  1167.0   \n",
       "m05                         NaN            1.0                  1709.0   \n",
       "m06                 124000000.0            1.0                  1912.0   \n",
       "m07                         NaN            1.0                  1680.0   \n",
       "m08                         NaN            1.0                  1995.0   \n",
       "m09                 137000000.0            1.0                  1810.0   \n",
       "m10                 112000000.0            1.0                  1797.0   \n",
       "\n",
       "             Vendor  Gender  Exposure time   Strain  Weight (g)  \\\n",
       "m01  Charles Rivers    Male           10.0   B6C3F1         NaN   \n",
       "m02  Charles Rivers  Female           10.0   B6C3F1        19.5   \n",
       "m03    Jackson Labs    Male           10.0   BALB/c        23.8   \n",
       "m04  Charles Rivers    Male           10.0     CD-1        24.4   \n",
       "m05  Charles Rivers    Male           10.0     CD-1         NaN   \n",
       "m06  Charles Rivers  Female           10.0   B6C3F1        21.0   \n",
       "m07    Jackson Labs    Male           10.0  C57BL/6        24.1   \n",
       "m08    Jackson Labs  Female           10.0  C57BL/6        23.0   \n",
       "m09    Jackson Labs  Female           10.0   BALB/c        23.7   \n",
       "m10    Jackson Labs  Female           10.0   BALB/c         NaN   \n",
       "\n",
       "     Maximum generation number  Lung volume  Total centerline length  \n",
       "m01                       25.0      1154.35                  658.742  \n",
       "m02                       24.0      1067.14                  586.798  \n",
       "m03                       25.0      1142.07                  556.905  \n",
       "m04                       24.0      1224.19                  453.592  \n",
       "m05                       23.0      1211.21                  569.515  \n",
       "m06                       25.0      1103.35                  605.276  \n",
       "m07                       27.0      1116.76                  571.870  \n",
       "m08                       25.0      1055.43                  597.903  \n",
       "m09                       26.0      1128.40                  529.485  \n",
       "m10                       25.0      1144.66                  524.425  "
      ]
     },
     "execution_count": 5,
     "metadata": {},
     "output_type": "execute_result"
    }
   ],
   "source": [
    "infoFiles = glob.glob(os.path.join('.','*/*_Info.md'))\n",
    "databaseInfo = {os.path.basename(i)[:3]: getInfo(i) for i in infoFiles}\n",
    "df = pandas.DataFrame.from_dict(databaseInfo, orient='index')\n",
    "df.head(10)"
   ]
  },
  {
   "cell_type": "markdown",
   "metadata": {},
   "source": [
    "This allow us now to search for datasets with specific characteristics or idenfity patterns.\n",
    "\n",
    "The example below plots the mice's weight vs. lung volume color coded by mouse strains."
   ]
  },
  {
   "cell_type": "code",
   "execution_count": 6,
   "metadata": {},
   "outputs": [
    {
     "data": {
      "image/png": "[encoded data removed]",
      "text/plain": [
       "<matplotlib.figure.Figure at 0x7f51a4184ac8>"
      ]
     },
     "metadata": {},
     "output_type": "display_data"
    }
   ],
   "source": [
    "strains = df['Strain'].unique()\n",
    "fig, ax = plt.subplots()\n",
    "colors = {'B6C3F1': 'blue', 'BALB/c':'red', 'CD-1':'green', 'C57BL/6':'yellow'}\n",
    "for i in strains:\n",
    "  plt.scatter(\\\n",
    "    df.loc[df['Strain']==i,'Weight (g)'].values,\\\n",
    "    df.loc[df['Strain']==i,'Lung volume'].values,\\\n",
    "    c=colors[i], label=i)\n",
    "ax.legend(bbox_to_anchor=(1.05, 1), loc=2, borderaxespad=0.);\n",
    "plt.xlabel('Weight')\n",
    "plt.ylabel('Lung Volume');"
   ]
  },
  {
   "cell_type": "markdown",
   "metadata": {},
   "source": [
    "The example below shows boxplots of the the mice's weight grouped by gender."
   ]
  },
  {
   "cell_type": "code",
   "execution_count": 7,
   "metadata": {},
   "outputs": [
    {
     "data": {
      "image/png": "[encoded data removed]",
      "text/plain": [
       "<matplotlib.figure.Figure at 0x7f51a189d160>"
      ]
     },
     "metadata": {},
     "output_type": "display_data"
    }
   ],
   "source": [
    "genders = df['Gender'].unique()\n",
    "plt.figure()\n",
    "data = [df.loc[df['Gender']==i,'Weight (g)'].dropna().values for i in genders]\n",
    "plt.boxplot(data, labels=genders)\n",
    "plt.xlabel('Gender')\n",
    "plt.ylabel('Weight');"
   ]
  }
 ],
 "metadata": {
  "kernelspec": {
   "display_name": "Python 3",
   "language": "python",
   "name": "python3"
  },
  "language_info": {
   "codemirror_mode": {
    "name": "ipython",
    "version": 3
   },
   "file_extension": ".py",
   "mimetype": "text/x-python",
   "name": "python",
   "nbconvert_exporter": "python",
   "pygments_lexer": "ipython3",
   "version": "3.4.3"
  }
 },
 "nbformat": 4,
 "nbformat_minor": 2
}
